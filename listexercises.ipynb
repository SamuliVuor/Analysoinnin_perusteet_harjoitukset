{
 "cells": [
  {
   "cell_type": "code",
   "execution_count": 16,
   "metadata": {},
   "outputs": [
    {
     "name": "stdout",
     "output_type": "stream",
     "text": [
      "['chair', 'table', 'shelf', 'sofa']\n",
      "['chair', 'table']\n",
      "sofa\n"
     ]
    }
   ],
   "source": [
    "furniture = [\"chair\", \"table\" ,\"shelf\" , \"sofa\"]\n",
    "print(furniture)\n",
    "print(furniture[:2])\n",
    "i = 0\n",
    "while i < len(furniture): \n",
    "    if furniture[i] == \"sofa\":\n",
    "        print(furniture[i])\n",
    "        break\n",
    "    i += 1\n"
   ]
  },
  {
   "cell_type": "code",
   "execution_count": 147,
   "metadata": {},
   "outputs": [
    {
     "name": "stdout",
     "output_type": "stream",
     "text": [
      "[6, 6, 5, 5, 4]\n",
      "26\n",
      "6\n"
     ]
    }
   ],
   "source": [
    "from random import randint\n",
    "\n",
    "\n",
    "throwDiceNumbers = [randint(1,6), randint(1,6), randint(1,6), randint(1,6), randint(1,6)]\n",
    "print(throwDiceNumbers)\n",
    "i = 0\n",
    "sum = 0\n",
    "while not i >= len(throwDiceNumbers):\n",
    "    sum = throwDiceNumbers[i] + sum\n",
    "    i += 1\n",
    "print(sum)\n",
    "value = 0\n",
    "hvalue = 0\n",
    "p = 0\n",
    "while not p >= len(throwDiceNumbers):\n",
    "    value = throwDiceNumbers[p]\n",
    "    if value > hvalue:\n",
    "        hvalue = value\n",
    "    p += 1\n",
    "print(hvalue)"
   ]
  }
 ],
 "metadata": {
  "kernelspec": {
   "display_name": "Python 3",
   "language": "python",
   "name": "python3"
  },
  "language_info": {
   "codemirror_mode": {
    "name": "ipython",
    "version": 3
   },
   "file_extension": ".py",
   "mimetype": "text/x-python",
   "name": "python",
   "nbconvert_exporter": "python",
   "pygments_lexer": "ipython3",
   "version": "3.12.0"
  }
 },
 "nbformat": 4,
 "nbformat_minor": 2
}
