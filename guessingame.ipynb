{
 "cells": [
  {
   "cell_type": "code",
   "execution_count": 29,
   "metadata": {},
   "outputs": [
    {
     "name": "stdout",
     "output_type": "stream",
     "text": [
      "Guess a name or type end to quit!\n",
      " Wrong! Here is a clue! S\n",
      "Guess a name or type end to quit!\n",
      " Wrong! Here is a clue! Sa\n",
      "Guess a name or type end to quit!\n",
      " Wrong! Here is a clue! Sam\n",
      "Guess a name or type end to quit!\n",
      " Wrong! Here is a clue! Samu\n",
      "Guess a name or type end to quit!\n",
      " Wrong! Here is a clue! Samul\n",
      "You guessed right, it took you 5 guesses!\n"
     ]
    }
   ],
   "source": [
    "\n",
    "vastaus = \"Samuli\"\n",
    "arvaus =\"\"\n",
    "maara = 0\n",
    "\t\t\n",
    "while arvaus != vastaus:\n",
    "    print(\"Guess a name or type end to quit!\")\n",
    "    arvaus = input()\n",
    "    if arvaus == \"end\":\n",
    "        print(\"You were not able to guess right, the right answer was \" +  vastaus + \". You guessed \" + str(maara) + \" times!\")\n",
    "        break\n",
    "    maara += 1\n",
    "    if maara >= 1 & maara <= len(vastaus):\n",
    "        print(\" Wrong! Here is a clue! \" + vastaus[0:maara])\n",
    "    if maara > len(vastaus):\n",
    "        print(\"You are out of clues!\")\n",
    "    if arvaus == vastaus:\n",
    "        print(\"You guessed right, it took you \" + str(maara) + \" guesses!\")\n",
    "        break\n"
   ]
  },
  {
   "cell_type": "code",
   "execution_count": null,
   "metadata": {},
   "outputs": [],
   "source": []
  }
 ],
 "metadata": {
  "kernelspec": {
   "display_name": "Python 3",
   "language": "python",
   "name": "python3"
  },
  "language_info": {
   "codemirror_mode": {
    "name": "ipython",
    "version": 3
   },
   "file_extension": ".py",
   "mimetype": "text/x-python",
   "name": "python",
   "nbconvert_exporter": "python",
   "pygments_lexer": "ipython3",
   "version": "3.12.0"
  }
 },
 "nbformat": 4,
 "nbformat_minor": 2
}
