{
 "cells": [
  {
   "cell_type": "code",
   "execution_count": 24,
   "metadata": {},
   "outputs": [
    {
     "name": "stdout",
     "output_type": "stream",
     "text": [
      "Printer App\n",
      "This app is made by: Samuli\n",
      "44\n",
      "The value of the number1 is 44\n",
      "The value of number2 is 22\n",
      "44 * 22 = 968\n",
      "44 + 22 = 66\n",
      "44 / 22 = 2.0\n",
      "44 - 22 = 22\n"
     ]
    }
   ],
   "source": [
    "creator = \"Samuli\"\n",
    "number1= 44\n",
    "number2= 22\n",
    "multiplication = number1 * number2\n",
    "addition = number1 + number2\n",
    "division = number1 / number2\n",
    "subtraction = number1 - number2\n",
    "print(\"Printer App\")\n",
    "print(\"This app is made by: \" + creator)\n",
    "print(number1) # tulostan numero1\n",
    "print(\"The value of the number1 is \" + str(number1))\n",
    "print(\"The value of number2 is \" + str(number2))\n",
    "print(str(number1) + \" * \" + str(number2) + \" = \" + str(multiplication))\n",
    "print(str(number1) + \" + \" + str(number2) + \" = \" + str(addition))\n",
    "print(str(number1) + \" / \" + str(number2) + \" = \" + str(division))\n",
    "print(str(number1) + \" - \" + str(number2) + \" = \" + str(subtraction))\n",
    "\n"
   ]
  }
 ],
 "metadata": {
  "kernelspec": {
   "display_name": "Python 3",
   "language": "python",
   "name": "python3"
  },
  "language_info": {
   "codemirror_mode": {
    "name": "ipython",
    "version": 3
   },
   "file_extension": ".py",
   "mimetype": "text/x-python",
   "name": "python",
   "nbconvert_exporter": "python",
   "pygments_lexer": "ipython3",
   "version": "3.12.0"
  }
 },
 "nbformat": 4,
 "nbformat_minor": 2
}
