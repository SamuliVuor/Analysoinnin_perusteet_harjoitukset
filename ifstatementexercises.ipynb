{
 "cells": [
  {
   "cell_type": "code",
   "execution_count": 10,
   "metadata": {},
   "outputs": [
    {
     "name": "stdout",
     "output_type": "stream",
     "text": [
      "number 1 is greater than number 2\n",
      "Number 1 is greater of equal to number 2\n",
      "Number 1 is not equal to number 2\n"
     ]
    }
   ],
   "source": [
    "number1 = 7\n",
    "number2 = 6\n",
    "\n",
    "if number1 == number2:\n",
    "    print(\"number 1 and number 2 are equal\")\n",
    "\n",
    "if number1 > number2:\n",
    "    print(\"number 1 is greater than number 2\")\n",
    "\n",
    "if number1 >= number2:\n",
    "    print(\"Number 1 is greater of equal to number 2\")\n",
    "\n",
    "if number1 != number2:\n",
    "    print(\"Number 1 is not equal to number 2\")\n",
    "\n",
    "\n",
    "\n",
    "\n",
    "\n",
    "\n",
    "    \n"
   ]
  },
  {
   "cell_type": "code",
   "execution_count": 32,
   "metadata": {},
   "outputs": [
    {
     "name": "stdout",
     "output_type": "stream",
     "text": [
      "All numbers are equal\n",
      "Either number 1 and number 2 are equal or number 2 and number 3 are equal\n",
      "Number 1 and number 2 are equal\n"
     ]
    }
   ],
   "source": [
    "number1 = 6\n",
    "number2 = 6\n",
    "number3 = 6\n",
    "\n",
    "if number1 == number2 == number3:\n",
    "    print(\"All numbers are equal\")\n",
    "if number1 == number2 or number2 == number3:\n",
    "    print(\"Either number 1 and number 2 are equal or number 2 and number 3 are equal\")\n",
    "if number1 > number2 and number1 > number3:\n",
    "    print(\"number 1 is greater than number 2 and number 3\")\n",
    "if number1 > number2:\n",
    "    print(\"Number 1 is greater than number 2\")\n",
    "elif number2 > number3:\n",
    "    print(\"Number 2 is greater than number 3\")\n",
    "if number1 == number2:\n",
    "    print(\"Number 1 and number 2 are equal\")\n",
    "elif number1 == number3:\n",
    "    print(\"number 1 and number 3 are equal\")\n",
    "\n",
    "\n"
   ]
  },
  {
   "cell_type": "code",
   "execution_count": 38,
   "metadata": {},
   "outputs": [
    {
     "name": "stdout",
     "output_type": "stream",
     "text": [
      "Name 1 and name 2 are not equal\n",
      "Name 1 and name 3 are equal\n"
     ]
    }
   ],
   "source": [
    "name1 = \"samui\"\n",
    "name2 = \"samuli\"\n",
    "name3 = \"samui\"\n",
    "\n",
    "if name1 == name2:\n",
    "    print(\"Name 1 and Name 2 are equal\")\n",
    "if name1 != name2:\n",
    "    print(\"Name 1 and name 2 are not equal\")\n",
    "if name1 == name2:\n",
    "    print(\"Name 1 and Name 2 are equal\")\n",
    "elif name1 == name3:\n",
    "    print(\"Name 1 and name 3 are equal\")"
   ]
  }
 ],
 "metadata": {
  "kernelspec": {
   "display_name": "Python 3",
   "language": "python",
   "name": "python3"
  },
  "language_info": {
   "codemirror_mode": {
    "name": "ipython",
    "version": 3
   },
   "file_extension": ".py",
   "mimetype": "text/x-python",
   "name": "python",
   "nbconvert_exporter": "python",
   "pygments_lexer": "ipython3",
   "version": "3.12.0"
  }
 },
 "nbformat": 4,
 "nbformat_minor": 2
}
